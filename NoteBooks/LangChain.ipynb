{
 "cells": [
  {
   "cell_type": "code",
   "execution_count": 1,
   "metadata": {},
   "outputs": [],
   "source": [
    "from langchain_google_genai import GoogleGenerativeAI\n",
    "from langchain_core.messages import SystemMessage\n",
    "from langchain_core.prompts import ChatPromptTemplate, HumanMessagePromptTemplate\n",
    "from langchain_core.output_parsers import StrOutputParser\n",
    "from langchain_core.runnables import RunnablePassthrough\n",
    "import os"
   ]
  },
  {
   "cell_type": "code",
   "execution_count": 2,
   "metadata": {},
   "outputs": [],
   "source": [
    "with open(r'Gemini_API_Key.txt') as f:\n",
    "    GOOGLE_API_KEY = f.read().strip()"
   ]
  },
  {
   "cell_type": "code",
   "execution_count": 3,
   "metadata": {},
   "outputs": [],
   "source": [
    "# Set the OpenAI Key and initialize a LLM model\n",
    "llm = GoogleGenerativeAI(google_api_key=GOOGLE_API_KEY, model=\"gemini-1.5-pro-latest\", temperature=1)\n"
   ]
  },
  {
   "cell_type": "code",
   "execution_count": 4,
   "metadata": {},
   "outputs": [],
   "source": [
    "output_parser = StrOutputParser()"
   ]
  },
  {
   "cell_type": "code",
   "execution_count": 5,
   "metadata": {},
   "outputs": [],
   "source": [
    "chat_template = ChatPromptTemplate.from_messages([\n",
    "    # System Message Prompt Template\n",
    "    SystemMessage(content=\"\"\"You are a Helpful AI Bot. \n",
    "    You take the question and answer from the user and provide a score based on the quality of the answer.\"\"\"),\n",
    "    # Human Message Prompt Template\n",
    "    HumanMessagePromptTemplate.from_template(\"\"\"Provide a score for the given question and answer.And a Note on it.\n",
    "\n",
    "    Question: \n",
    "    {question}\n",
    "    \n",
    "    Answer: \n",
    "    {answer}\n",
    "    \n",
    "    Score (out of 10): \n",
    "    Note: \"\"\")\n",
    "])"
   ]
  },
  {
   "cell_type": "code",
   "execution_count": 10,
   "metadata": {},
   "outputs": [],
   "source": [
    "evaluate = (\n",
    "    {\"question\": RunnablePassthrough(), \"answer\": RunnablePassthrough()}\n",
    "    | chat_template\n",
    "    | llm\n",
    "    | output_parser\n",
    ")"
   ]
  },
  {
   "cell_type": "code",
   "execution_count": 11,
   "metadata": {},
   "outputs": [],
   "source": [
    "question = \"What is the Machine Learning\"\n",
    "answer = \"ML typically refers to 'Machine Learning,' which is a branch of artificial intelligence (AI) that involves developing algorithms and statistical models that enable computers to learn patterns and make decisions from data without explicit programming. Machine learning algorithms allow systems to improve their performance over time as they are exposed to more data. It's widely used in various applications like image and speech recognition, medical diagnosis, recommendation systems, and more.\""
   ]
  },
  {
   "cell_type": "code",
   "execution_count": 12,
   "metadata": {},
   "outputs": [],
   "source": [
    "result = evaluate.invoke({\"question\": question, \"answer\": answer})\n"
   ]
  },
  {
   "cell_type": "code",
   "execution_count": 13,
   "metadata": {},
   "outputs": [
    {
     "name": "stdout",
     "output_type": "stream",
     "text": [
      "## Score (out of 10): 9\n",
      "\n",
      "## Note: \n",
      "\n",
      "This is a good definition of Machine Learning. It correctly identifies it as a branch of AI and accurately describes the core principle of using algorithms to learn from data. \n",
      "\n",
      "**Strengths:**\n",
      "\n",
      "* **Clear and concise:** The answer is easy to understand and avoids unnecessary jargon.\n",
      "* **Accurate:** The information provided is factually correct.\n",
      "* **Provides context:** It places Machine Learning within the broader field of AI.\n",
      "* **Mentions key concepts:** Algorithms, statistical models, learning from data, and improvement over time are all essential aspects of ML.\n",
      "* **Offers examples:** Listing common applications helps illustrate the relevance of ML.\n",
      "\n",
      "**Areas for Improvement:**\n",
      "\n",
      "* **Could elaborate on \"without explicit programming\":** While technically accurate, this phrase might benefit from further explanation for someone unfamiliar with the concept. For example, you could add \"meaning they can adapt and improve their performance based on new data without being specifically instructed on how to handle each scenario.\" \n",
      "\n",
      "Overall, this is a strong answer that effectively communicates the essence of Machine Learning. \n",
      "\n"
     ]
    }
   ],
   "source": [
    "print(result)"
   ]
  }
 ],
 "metadata": {
  "kernelspec": {
   "display_name": "base",
   "language": "python",
   "name": "python3"
  },
  "language_info": {
   "codemirror_mode": {
    "name": "ipython",
    "version": 3
   },
   "file_extension": ".py",
   "mimetype": "text/x-python",
   "name": "python",
   "nbconvert_exporter": "python",
   "pygments_lexer": "ipython3",
   "version": "3.11.5"
  }
 },
 "nbformat": 4,
 "nbformat_minor": 2
}
